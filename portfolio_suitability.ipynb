{
 "cells": [
  {
   "cell_type": "markdown",
   "metadata": {},
   "source": [
    "Portfolio Suitability"
   ]
  },
  {
   "cell_type": "code",
   "execution_count": 1,
   "metadata": {},
   "outputs": [],
   "source": [
    "#Imports\n",
    "\n",
    "import os\n",
    "import requests\n",
    "import json\n",
    "import pandas as pd\n",
    "from dotenv import load_dotenv\n",
    "import alpaca_trade_api as tradeapi\n",
    "from fpdf import FPDF\n",
    "# from MCForecastTools import MCSimulation\n",
    "from pathlib import Path\n",
    "%matplotlib inline\n",
    "# from mailer import Mailer\n",
    "import questionary\n",
    "import fire\n",
    "from questionary.constants import NO, YES, YES_OR_NO\n",
    "import sqlalchemy\n"
   ]
  },
  {
   "cell_type": "code",
   "execution_count": 2,
   "metadata": {},
   "outputs": [
    {
     "name": "stdout",
     "output_type": "stream",
     "text": [
      "2022-02-07 20:44:51,748 INFO sqlalchemy.engine.Engine SELECT name FROM sqlite_master WHERE type='table' ORDER BY name\n",
      "2022-02-07 20:44:51,749 INFO sqlalchemy.engine.Engine [raw sql] ()\n",
      "2022-02-07 20:44:51,749 INFO sqlalchemy.engine.Engine \n",
      "CREATE TABLE client(\n",
      "    \"full_name\" VARCHAR,\n",
      "    \"phone_number\" VARCHAR,\n",
      "    \"email_address\" VARCHAR,\n",
      "    \"annual_income\" FLOAT,\n",
      "    \"investing_experience\" FLOAT,\n",
      "    \"investment_amount\" FLOAT,\n",
      "    \"annual_expenses\" FLOAT,\n",
      "    \"income_stability\" VARCHAR,\n",
      "    \"risk_level\" VARCHAR,\n",
      "    \"investment_strategy\" VARCHAR,\n",
      "    \"investment_length\" VARCHAR\n",
      ")\n",
      "\n",
      "2022-02-07 20:44:51,750 INFO sqlalchemy.engine.Engine [raw sql] ()\n",
      "2022-02-07 20:44:51,751 INFO sqlalchemy.engine.Engine COMMIT\n"
     ]
    },
    {
     "name": "stderr",
     "output_type": "stream",
     "text": [
      "/var/folders/4x/jx46p2kn29bbg4k41vh6c4gh0000gn/T/ipykernel_16616/665304045.py:6: SADeprecationWarning: The Engine.table_names() method is deprecated and will be removed in a future release.  Please refer to Inspector.get_table_names(). (deprecated since: 1.4)\n",
      "  engine.table_names()\n"
     ]
    },
    {
     "data": {
      "text/plain": [
       "<sqlalchemy.engine.cursor.LegacyCursorResult at 0x7fb3a8e33130>"
      ]
     },
     "execution_count": 2,
     "metadata": {},
     "output_type": "execute_result"
    }
   ],
   "source": [
    "# create table\n",
    "\n",
    "database_connection_string = \"sqlite:///\"\n",
    "engine = sqlalchemy.create_engine(database_connection_string, echo=True)\n",
    "\n",
    "engine.table_names()\n",
    "\n",
    "create_table = (\n",
    "\n",
    "\"\"\"\n",
    "CREATE TABLE client(\n",
    "    \"full_name\" VARCHAR,\n",
    "    \"phone_number\" VARCHAR,\n",
    "    \"email_address\" VARCHAR,\n",
    "    \"annual_income\" FLOAT,\n",
    "    \"investing_experience\" FLOAT,\n",
    "    \"investment_amount\" FLOAT,\n",
    "    \"annual_expenses\" FLOAT,\n",
    "    \"income_stability\" VARCHAR,\n",
    "    \"risk_level\" VARCHAR,\n",
    "    \"investment_strategy\" VARCHAR,\n",
    "    \"investment_length\" VARCHAR\n",
    ")\n",
    "\"\"\"\n",
    ")\n",
    "engine.execute(create_table)\n"
   ]
  },
  {
   "cell_type": "code",
   "execution_count": 3,
   "metadata": {},
   "outputs": [
    {
     "name": "stdout",
     "output_type": "stream",
     "text": [
      "2022-02-07 20:44:53,869 INFO sqlalchemy.engine.Engine \n",
      "    INSERT INTO client (\n",
      "        'full_name', 'phone_number', 'email_address', 'annual_income', 'investing_experience', 'investment_amount', 'annual_expenses', 'income_stability', 'risk_level', \n",
      "        'investment_strategy', 'investment_length')\n",
      "    VALUES (?, ?, ?, ?, ?, ?, ?, ?, ?, ?, ?)\n",
      "    \n",
      "2022-02-07 20:44:53,874 INFO sqlalchemy.engine.Engine [raw sql] ('Jacob', '713-555-7834', 'cdb@bcg.law', 100000, 4, 10000, 50000, 'YES', 'Low', 'Value', '0-1')\n",
      "2022-02-07 20:44:53,880 INFO sqlalchemy.engine.Engine COMMIT\n"
     ]
    },
    {
     "data": {
      "text/plain": [
       "<sqlalchemy.engine.cursor.LegacyCursorResult at 0x7fb3caf17700>"
      ]
     },
     "execution_count": 3,
     "metadata": {},
     "output_type": "execute_result"
    }
   ],
   "source": [
    "# Load dummy data for testing only.  DELETE BEFORE USING\n",
    "\n",
    "full_name = \"Jacob\"\n",
    "phone_number = \"713-555-7834\"\n",
    "email_address = \"cdb@bcg.law\"\n",
    "annual_income = 100000\n",
    "investing_experience = 4\n",
    "investment_amount = 10000\n",
    "annual_expenses = 50000\n",
    "income_stability = \"YES\"\n",
    "risk_level = \"Low\"\n",
    "investment_strategy = \"Value\"\n",
    "investment_length = \"0-1\"\n",
    "\n",
    "insert_data = \"\"\"\n",
    "    INSERT INTO client (\n",
    "        'full_name', 'phone_number', 'email_address', 'annual_income', 'investing_experience', 'investment_amount', 'annual_expenses', 'income_stability', 'risk_level', \n",
    "        'investment_strategy', 'investment_length')\n",
    "    VALUES (?, ?, ?, ?, ?, ?, ?, ?, ?, ?, ?)\n",
    "    \"\"\"\n",
    "    \n",
    "engine.execute(insert_data, (full_name, phone_number, email_address, annual_income, investing_experience, investment_amount, annual_expenses, income_stability, risk_level, investment_strategy, investment_length))\n",
    "    "
   ]
  },
  {
   "cell_type": "code",
   "execution_count": 10,
   "metadata": {},
   "outputs": [
    {
     "name": "stdout",
     "output_type": "stream",
     "text": [
      "2022-02-07 20:51:32,923 INFO sqlalchemy.engine.Engine SELECT name FROM sqlite_master WHERE type='table' ORDER BY name\n",
      "2022-02-07 20:51:32,926 INFO sqlalchemy.engine.Engine [raw sql] ()\n",
      "2022-02-07 20:51:32,928 INFO sqlalchemy.engine.Engine \n",
      "SELECT * FROM client\n",
      "\n",
      "2022-02-07 20:51:32,930 INFO sqlalchemy.engine.Engine [raw sql] ()\n",
      "Jacob\n"
     ]
    },
    {
     "name": "stderr",
     "output_type": "stream",
     "text": [
      "/var/folders/4x/jx46p2kn29bbg4k41vh6c4gh0000gn/T/ipykernel_16616/1544277031.py:1: SADeprecationWarning: The Engine.table_names() method is deprecated and will be removed in a future release.  Please refer to Inspector.get_table_names(). (deprecated since: 1.4)\n",
      "  engine.table_names()\n"
     ]
    }
   ],
   "source": [
    "engine.table_names(client)\n",
    "\n",
    "read_all_data = \"\"\"\n",
    "SELECT * FROM client\n",
    "\"\"\"\n",
    "results = engine.execute(read_all_data)\n",
    "for row in results:\n",
    "    print(row)\n"
   ]
  },
  {
   "cell_type": "code",
   "execution_count": 12,
   "metadata": {},
   "outputs": [
    {
     "name": "stdout",
     "output_type": "stream",
     "text": [
      "Jacob\n",
      "50000\n"
     ]
    }
   ],
   "source": [
    "print(full_name)\n",
    "print(annual_income-annual_expenses)"
   ]
  },
  {
   "cell_type": "code",
   "execution_count": null,
   "metadata": {},
   "outputs": [],
   "source": [
    "# Load env"
   ]
  },
  {
   "cell_type": "code",
   "execution_count": null,
   "metadata": {},
   "outputs": [],
   "source": [
    "# Use questions to determine the clients risk tolerance, investment horizen, income v. growth   "
   ]
  },
  {
   "cell_type": "code",
   "execution_count": 16,
   "metadata": {},
   "outputs": [],
   "source": [
    "# Convert Investor Responses to Risk Scores\n",
    "\n",
    "risk_score = 0\n",
    "time_score = 0\n",
    "\n",
    "investment_percent = investment_amount / annual_income\n",
    "disposible_income = annual_income - annual_expenses\n",
    "investment_ratio = disposible_income / investment_amount\n",
    "\n",
    "if investment_percent < .40:\n",
    "    risk_score += 100\n",
    "elif investment_percent > .40 and investment_percent < .80:\n",
    "    risk_score += 50\n",
    "else:\n",
    "    risk_score += 0\n",
    "\n",
    "if investing_experience < 4:\n",
    "    risk_score -= 10\n",
    "elif investing_experience > 4 and investing_experience < 9:\n",
    "    risk_score += 0\n",
    "else:\n",
    "    risk_score += 10\n",
    "\n",
    "if income_stability:\n",
    "    risk_score += 0\n",
    "else:\n",
    "    risk_score -= 40\n",
    "\n",
    "if risk_level == \"Low\":\n",
    "    risk_score * .1\n",
    "elif risk_level == \"Moderate\":\n",
    "    risk_score * .5\n",
    "elif risk_level == \"High\":\n",
    "    risk_score * 1\n",
    "else:\n",
    "    risk_score * 1.10\n",
    "\n",
    "if investment_length == \"0-1\":\n",
    "    time_score += 25\n",
    "elif investment_length == \"2-4\" and investment_length <= 4:\n",
    "    time_score += 50\n",
    "elif investment_length == \"5-9\" and investment_length <= 9:\n",
    "    time_score += 75\n",
    "else:\n",
    "    time_score += 100"
   ]
  },
  {
   "cell_type": "code",
   "execution_count": 17,
   "metadata": {},
   "outputs": [
    {
     "name": "stdout",
     "output_type": "stream",
     "text": [
      "110\n",
      "25\n",
      "Value\n"
     ]
    }
   ],
   "source": [
    "print(risk_score)\n",
    "print(time_score)\n",
    "print(investment_strategy)"
   ]
  },
  {
   "cell_type": "code",
   "execution_count": 11,
   "metadata": {},
   "outputs": [
    {
     "data": {
      "text/html": [
       "<div>\n",
       "<style scoped>\n",
       "    .dataframe tbody tr th:only-of-type {\n",
       "        vertical-align: middle;\n",
       "    }\n",
       "\n",
       "    .dataframe tbody tr th {\n",
       "        vertical-align: top;\n",
       "    }\n",
       "\n",
       "    .dataframe thead th {\n",
       "        text-align: right;\n",
       "    }\n",
       "</style>\n",
       "<table border=\"1\" class=\"dataframe\">\n",
       "  <thead>\n",
       "    <tr style=\"text-align: right;\">\n",
       "      <th></th>\n",
       "      <th>Name</th>\n",
       "      <th>Last Sale</th>\n",
       "      <th>Net Change</th>\n",
       "      <th>% Change</th>\n",
       "      <th>Market Cap</th>\n",
       "      <th>Country</th>\n",
       "      <th>IPO Year</th>\n",
       "      <th>Volume</th>\n",
       "      <th>Sector</th>\n",
       "      <th>Industry</th>\n",
       "    </tr>\n",
       "    <tr>\n",
       "      <th>Symbol</th>\n",
       "      <th></th>\n",
       "      <th></th>\n",
       "      <th></th>\n",
       "      <th></th>\n",
       "      <th></th>\n",
       "      <th></th>\n",
       "      <th></th>\n",
       "      <th></th>\n",
       "      <th></th>\n",
       "      <th></th>\n",
       "    </tr>\n",
       "  </thead>\n",
       "  <tbody>\n",
       "    <tr>\n",
       "      <th>A</th>\n",
       "      <td>Agilent Technologies Inc. Common Stock</td>\n",
       "      <td>$141.12</td>\n",
       "      <td>-0.67</td>\n",
       "      <td>-0.473%</td>\n",
       "      <td>4.261835e+10</td>\n",
       "      <td>United States</td>\n",
       "      <td>1999.0</td>\n",
       "      <td>1087377</td>\n",
       "      <td>Capital Goods</td>\n",
       "      <td>Electrical Products</td>\n",
       "    </tr>\n",
       "    <tr>\n",
       "      <th>AA</th>\n",
       "      <td>Alcoa Corporation Common Stock</td>\n",
       "      <td>$64.22</td>\n",
       "      <td>1.48</td>\n",
       "      <td>2.359%</td>\n",
       "      <td>1.182289e+10</td>\n",
       "      <td>NaN</td>\n",
       "      <td>2016.0</td>\n",
       "      <td>7159515</td>\n",
       "      <td>Basic Industries</td>\n",
       "      <td>Metal Fabrications</td>\n",
       "    </tr>\n",
       "    <tr>\n",
       "      <th>AAC</th>\n",
       "      <td>Ares Acquisition Corporation Class A Ordinary ...</td>\n",
       "      <td>$9.75</td>\n",
       "      <td>-0.01</td>\n",
       "      <td>-0.102%</td>\n",
       "      <td>1.218750e+09</td>\n",
       "      <td>NaN</td>\n",
       "      <td>2021.0</td>\n",
       "      <td>49771</td>\n",
       "      <td>Finance</td>\n",
       "      <td>Business Services</td>\n",
       "    </tr>\n",
       "    <tr>\n",
       "      <th>AACG</th>\n",
       "      <td>ATA Creativity Global American Depositary Shares</td>\n",
       "      <td>$1.56</td>\n",
       "      <td>0.02</td>\n",
       "      <td>1.299%</td>\n",
       "      <td>4.894800e+07</td>\n",
       "      <td>China</td>\n",
       "      <td>NaN</td>\n",
       "      <td>61790</td>\n",
       "      <td>Miscellaneous</td>\n",
       "      <td>Service to the Health Industry</td>\n",
       "    </tr>\n",
       "    <tr>\n",
       "      <th>AACI</th>\n",
       "      <td>Armada Acquisition Corp. I Common Stock</td>\n",
       "      <td>$9.8229</td>\n",
       "      <td>0.00</td>\n",
       "      <td>0.00%</td>\n",
       "      <td>2.034273e+08</td>\n",
       "      <td>United States</td>\n",
       "      <td>2021.0</td>\n",
       "      <td>6</td>\n",
       "      <td>NaN</td>\n",
       "      <td>NaN</td>\n",
       "    </tr>\n",
       "  </tbody>\n",
       "</table>\n",
       "</div>"
      ],
      "text/plain": [
       "                                                     Name Last Sale  \\\n",
       "Symbol                                                                \n",
       "A                  Agilent Technologies Inc. Common Stock   $141.12   \n",
       "AA                        Alcoa Corporation Common Stock     $64.22   \n",
       "AAC     Ares Acquisition Corporation Class A Ordinary ...     $9.75   \n",
       "AACG     ATA Creativity Global American Depositary Shares     $1.56   \n",
       "AACI              Armada Acquisition Corp. I Common Stock   $9.8229   \n",
       "\n",
       "        Net Change % Change    Market Cap        Country  IPO Year   Volume  \\\n",
       "Symbol                                                                        \n",
       "A            -0.67  -0.473%  4.261835e+10  United States    1999.0  1087377   \n",
       "AA            1.48   2.359%  1.182289e+10            NaN    2016.0  7159515   \n",
       "AAC          -0.01  -0.102%  1.218750e+09            NaN    2021.0    49771   \n",
       "AACG          0.02   1.299%  4.894800e+07          China       NaN    61790   \n",
       "AACI          0.00    0.00%  2.034273e+08  United States    2021.0        6   \n",
       "\n",
       "                  Sector                        Industry  \n",
       "Symbol                                                    \n",
       "A          Capital Goods             Electrical Products  \n",
       "AA      Basic Industries              Metal Fabrications  \n",
       "AAC              Finance               Business Services  \n",
       "AACG       Miscellaneous  Service to the Health Industry  \n",
       "AACI                 NaN                             NaN  "
      ]
     },
     "metadata": {},
     "output_type": "display_data"
    },
    {
     "data": {
      "text/html": [
       "<div>\n",
       "<style scoped>\n",
       "    .dataframe tbody tr th:only-of-type {\n",
       "        vertical-align: middle;\n",
       "    }\n",
       "\n",
       "    .dataframe tbody tr th {\n",
       "        vertical-align: top;\n",
       "    }\n",
       "\n",
       "    .dataframe thead th {\n",
       "        text-align: right;\n",
       "    }\n",
       "</style>\n",
       "<table border=\"1\" class=\"dataframe\">\n",
       "  <thead>\n",
       "    <tr style=\"text-align: right;\">\n",
       "      <th></th>\n",
       "      <th>Name</th>\n",
       "      <th>Last Sale</th>\n",
       "      <th>Net Change</th>\n",
       "      <th>% Change</th>\n",
       "      <th>Market Cap</th>\n",
       "      <th>Country</th>\n",
       "      <th>IPO Year</th>\n",
       "      <th>Volume</th>\n",
       "      <th>Sector</th>\n",
       "      <th>Industry</th>\n",
       "    </tr>\n",
       "    <tr>\n",
       "      <th>Symbol</th>\n",
       "      <th></th>\n",
       "      <th></th>\n",
       "      <th></th>\n",
       "      <th></th>\n",
       "      <th></th>\n",
       "      <th></th>\n",
       "      <th></th>\n",
       "      <th></th>\n",
       "      <th></th>\n",
       "      <th></th>\n",
       "    </tr>\n",
       "  </thead>\n",
       "  <tbody>\n",
       "    <tr>\n",
       "      <th>ZWS</th>\n",
       "      <td>Zurn Water Solutions Corporation Common Stock</td>\n",
       "      <td>$30.76</td>\n",
       "      <td>-0.04</td>\n",
       "      <td>-0.13%</td>\n",
       "      <td>3.867149e+09</td>\n",
       "      <td>United States</td>\n",
       "      <td>2012.0</td>\n",
       "      <td>1304547</td>\n",
       "      <td>Public Utilities</td>\n",
       "      <td>Water Supply</td>\n",
       "    </tr>\n",
       "    <tr>\n",
       "      <th>ZY</th>\n",
       "      <td>Zymergen Inc. Common Stock</td>\n",
       "      <td>$4.43</td>\n",
       "      <td>0.16</td>\n",
       "      <td>3.747%</td>\n",
       "      <td>4.536355e+08</td>\n",
       "      <td>United States</td>\n",
       "      <td>2021.0</td>\n",
       "      <td>788529</td>\n",
       "      <td>Basic Industries</td>\n",
       "      <td>Industrial Specialties</td>\n",
       "    </tr>\n",
       "    <tr>\n",
       "      <th>ZYME</th>\n",
       "      <td>Zymeworks Inc. Common Shares</td>\n",
       "      <td>$7.95</td>\n",
       "      <td>0.46</td>\n",
       "      <td>6.142%</td>\n",
       "      <td>4.578323e+08</td>\n",
       "      <td>Canada</td>\n",
       "      <td>2017.0</td>\n",
       "      <td>1132143</td>\n",
       "      <td>NaN</td>\n",
       "      <td>NaN</td>\n",
       "    </tr>\n",
       "    <tr>\n",
       "      <th>ZYNE</th>\n",
       "      <td>Zynerba Pharmaceuticals Inc. Common Stock</td>\n",
       "      <td>$2.67</td>\n",
       "      <td>0.07</td>\n",
       "      <td>2.692%</td>\n",
       "      <td>1.100508e+08</td>\n",
       "      <td>United States</td>\n",
       "      <td>2015.0</td>\n",
       "      <td>273878</td>\n",
       "      <td>Health Care</td>\n",
       "      <td>Biotechnology: Pharmaceutical Preparations</td>\n",
       "    </tr>\n",
       "    <tr>\n",
       "      <th>ZYXI</th>\n",
       "      <td>Zynex Inc. Common Stock</td>\n",
       "      <td>$7.52</td>\n",
       "      <td>0.23</td>\n",
       "      <td>3.155%</td>\n",
       "      <td>3.015435e+08</td>\n",
       "      <td>United States</td>\n",
       "      <td>NaN</td>\n",
       "      <td>154611</td>\n",
       "      <td>Health Care</td>\n",
       "      <td>Other Pharmaceuticals</td>\n",
       "    </tr>\n",
       "  </tbody>\n",
       "</table>\n",
       "</div>"
      ],
      "text/plain": [
       "                                                 Name Last Sale  Net Change  \\\n",
       "Symbol                                                                        \n",
       "ZWS     Zurn Water Solutions Corporation Common Stock    $30.76       -0.04   \n",
       "ZY                         Zymergen Inc. Common Stock     $4.43        0.16   \n",
       "ZYME                     Zymeworks Inc. Common Shares     $7.95        0.46   \n",
       "ZYNE        Zynerba Pharmaceuticals Inc. Common Stock     $2.67        0.07   \n",
       "ZYXI                          Zynex Inc. Common Stock     $7.52        0.23   \n",
       "\n",
       "       % Change    Market Cap        Country  IPO Year   Volume  \\\n",
       "Symbol                                                            \n",
       "ZWS      -0.13%  3.867149e+09  United States    2012.0  1304547   \n",
       "ZY       3.747%  4.536355e+08  United States    2021.0   788529   \n",
       "ZYME     6.142%  4.578323e+08         Canada    2017.0  1132143   \n",
       "ZYNE     2.692%  1.100508e+08  United States    2015.0   273878   \n",
       "ZYXI     3.155%  3.015435e+08  United States       NaN   154611   \n",
       "\n",
       "                  Sector                                    Industry  \n",
       "Symbol                                                                \n",
       "ZWS     Public Utilities                                Water Supply  \n",
       "ZY      Basic Industries                      Industrial Specialties  \n",
       "ZYME                 NaN                                         NaN  \n",
       "ZYNE         Health Care  Biotechnology: Pharmaceutical Preparations  \n",
       "ZYXI         Health Care                       Other Pharmaceuticals  "
      ]
     },
     "metadata": {},
     "output_type": "display_data"
    }
   ],
   "source": [
    "# Import stock symbol db\n",
    "nasdaq = pd.read_csv(\n",
    "\tPath(\"Resources/nasdaq.csv\"),\n",
    "\tindex_col = \"Symbol\",\n",
    ")\n",
    "\n",
    "display(nasdaq.head())\n",
    "display(nasdaq.tail())\n",
    "\n"
   ]
  },
  {
   "cell_type": "code",
   "execution_count": 12,
   "metadata": {},
   "outputs": [
    {
     "data": {
      "text/html": [
       "<div>\n",
       "<style scoped>\n",
       "    .dataframe tbody tr th:only-of-type {\n",
       "        vertical-align: middle;\n",
       "    }\n",
       "\n",
       "    .dataframe tbody tr th {\n",
       "        vertical-align: top;\n",
       "    }\n",
       "\n",
       "    .dataframe thead th {\n",
       "        text-align: right;\n",
       "    }\n",
       "</style>\n",
       "<table border=\"1\" class=\"dataframe\">\n",
       "  <thead>\n",
       "    <tr style=\"text-align: right;\">\n",
       "      <th></th>\n",
       "      <th>Name</th>\n",
       "      <th>Market Cap</th>\n",
       "      <th>Volume</th>\n",
       "      <th>Sector</th>\n",
       "      <th>Industry</th>\n",
       "    </tr>\n",
       "    <tr>\n",
       "      <th>Symbol</th>\n",
       "      <th></th>\n",
       "      <th></th>\n",
       "      <th></th>\n",
       "      <th></th>\n",
       "      <th></th>\n",
       "    </tr>\n",
       "  </thead>\n",
       "  <tbody>\n",
       "    <tr>\n",
       "      <th>A</th>\n",
       "      <td>Agilent Technologies Inc. Common Stock</td>\n",
       "      <td>4.261835e+10</td>\n",
       "      <td>1087377</td>\n",
       "      <td>Capital Goods</td>\n",
       "      <td>Electrical Products</td>\n",
       "    </tr>\n",
       "    <tr>\n",
       "      <th>AA</th>\n",
       "      <td>Alcoa Corporation Common Stock</td>\n",
       "      <td>1.182289e+10</td>\n",
       "      <td>7159515</td>\n",
       "      <td>Basic Industries</td>\n",
       "      <td>Metal Fabrications</td>\n",
       "    </tr>\n",
       "    <tr>\n",
       "      <th>AAC</th>\n",
       "      <td>Ares Acquisition Corporation Class A Ordinary ...</td>\n",
       "      <td>1.218750e+09</td>\n",
       "      <td>49771</td>\n",
       "      <td>Finance</td>\n",
       "      <td>Business Services</td>\n",
       "    </tr>\n",
       "    <tr>\n",
       "      <th>AACG</th>\n",
       "      <td>ATA Creativity Global American Depositary Shares</td>\n",
       "      <td>4.894800e+07</td>\n",
       "      <td>61790</td>\n",
       "      <td>Miscellaneous</td>\n",
       "      <td>Service to the Health Industry</td>\n",
       "    </tr>\n",
       "    <tr>\n",
       "      <th>AACI</th>\n",
       "      <td>Armada Acquisition Corp. I Common Stock</td>\n",
       "      <td>2.034273e+08</td>\n",
       "      <td>6</td>\n",
       "      <td>NaN</td>\n",
       "      <td>NaN</td>\n",
       "    </tr>\n",
       "  </tbody>\n",
       "</table>\n",
       "</div>"
      ],
      "text/plain": [
       "                                                     Name    Market Cap  \\\n",
       "Symbol                                                                    \n",
       "A                  Agilent Technologies Inc. Common Stock  4.261835e+10   \n",
       "AA                        Alcoa Corporation Common Stock   1.182289e+10   \n",
       "AAC     Ares Acquisition Corporation Class A Ordinary ...  1.218750e+09   \n",
       "AACG     ATA Creativity Global American Depositary Shares  4.894800e+07   \n",
       "AACI              Armada Acquisition Corp. I Common Stock  2.034273e+08   \n",
       "\n",
       "         Volume            Sector                        Industry  \n",
       "Symbol                                                             \n",
       "A       1087377     Capital Goods             Electrical Products  \n",
       "AA      7159515  Basic Industries              Metal Fabrications  \n",
       "AAC       49771           Finance               Business Services  \n",
       "AACG      61790     Miscellaneous  Service to the Health Industry  \n",
       "AACI          6               NaN                             NaN  "
      ]
     },
     "execution_count": 12,
     "metadata": {},
     "output_type": "execute_result"
    }
   ],
   "source": [
    "# Clean NASDAQ Data by Removing Columns\n",
    "\n",
    "nasdaq = nasdaq.drop(['Last Sale', 'Net Change', '% Change', 'IPO Year', 'Country'], axis=1)\n",
    "\n",
    "nasdaq.head()"
   ]
  },
  {
   "cell_type": "code",
   "execution_count": null,
   "metadata": {},
   "outputs": [],
   "source": [
    "# Load stocks based on client suitability\n",
    "\n",
    "#  If variables to select the etfs"
   ]
  },
  {
   "cell_type": "code",
   "execution_count": null,
   "metadata": {},
   "outputs": [],
   "source": [
    "# Determine info for SPY, QQQ, IEF, and client selections\n",
    "\n",
    "# Use Alpaca to pull last 3 years data for SPY, QQQ, IEF, and Client Selections"
   ]
  },
  {
   "cell_type": "code",
   "execution_count": null,
   "metadata": {},
   "outputs": [],
   "source": [
    "# Run MC Sim for SPY, DIA, IEF, and client selection"
   ]
  },
  {
   "cell_type": "code",
   "execution_count": null,
   "metadata": {},
   "outputs": [],
   "source": [
    "# Present comparisons in table"
   ]
  },
  {
   "cell_type": "code",
   "execution_count": null,
   "metadata": {},
   "outputs": [],
   "source": [
    "# Present comparisons graphically"
   ]
  },
  {
   "cell_type": "code",
   "execution_count": null,
   "metadata": {},
   "outputs": [],
   "source": [
    "# Determine whether the client wants a PDF of the report"
   ]
  },
  {
   "cell_type": "code",
   "execution_count": 6,
   "metadata": {},
   "outputs": [
    {
     "data": {
      "text/plain": [
       "''"
      ]
     },
     "execution_count": 6,
     "metadata": {},
     "output_type": "execute_result"
    }
   ],
   "source": [
    "# Provide written report and recommendations\n",
    "\n",
    "pdf = FPDF('P', 'mm', 'letter')\n",
    "pdf.add_page()\n",
    "pdf.set_font('Arial', 'B', 16)\n",
    "pdf.cell(40, 10, 'Report to begin')\n",
    "pdf.output('portfolio_suitability_report.pdf', 'F')\n"
   ]
  },
  {
   "cell_type": "code",
   "execution_count": 11,
   "metadata": {},
   "outputs": [
    {
     "ename": "TypeError",
     "evalue": "__init__() got an unexpected keyword argument 'email'",
     "output_type": "error",
     "traceback": [
      "\u001b[0;31m---------------------------------------------------------------------------\u001b[0m",
      "\u001b[0;31mTypeError\u001b[0m                                 Traceback (most recent call last)",
      "\u001b[0;32m/var/folders/4x/jx46p2kn29bbg4k41vh6c4gh0000gn/T/ipykernel_16246/2421634609.py\u001b[0m in \u001b[0;36m<module>\u001b[0;34m\u001b[0m\n\u001b[1;32m      1\u001b[0m \u001b[0;31m# Mail the document\u001b[0m\u001b[0;34m\u001b[0m\u001b[0;34m\u001b[0m\u001b[0m\n\u001b[0;32m----> 2\u001b[0;31m \u001b[0mmail\u001b[0m \u001b[0;34m=\u001b[0m \u001b[0mMailer\u001b[0m\u001b[0;34m(\u001b[0m\u001b[0memail\u001b[0m\u001b[0;34m=\u001b[0m\u001b[0;34m'portfoliosuitability@gmail.com'\u001b[0m\u001b[0;34m,\u001b[0m \u001b[0mpassword\u001b[0m\u001b[0;34m=\u001b[0m\u001b[0;34m'RiceBootCamp2022'\u001b[0m\u001b[0;34m)\u001b[0m\u001b[0;34m\u001b[0m\u001b[0;34m\u001b[0m\u001b[0m\n\u001b[0m\u001b[1;32m      3\u001b[0m \u001b[0mmail\u001b[0m\u001b[0;34m.\u001b[0m\u001b[0msend\u001b[0m\u001b[0;34m(\u001b[0m\u001b[0mreceiver\u001b[0m\u001b[0;34m=\u001b[0m\u001b[0;34m'cdb@bcg.law'\u001b[0m\u001b[0;34m,\u001b[0m \u001b[0msubject\u001b[0m\u001b[0;34m=\u001b[0m\u001b[0;34m'You made it work!'\u001b[0m\u001b[0;34m,\u001b[0m \u001b[0mmessage\u001b[0m\u001b[0;34m=\u001b[0m\u001b[0;34m'Congrats'\u001b[0m\u001b[0;34m)\u001b[0m\u001b[0;34m\u001b[0m\u001b[0;34m\u001b[0m\u001b[0m\n",
      "\u001b[0;31mTypeError\u001b[0m: __init__() got an unexpected keyword argument 'email'"
     ]
    }
   ],
   "source": [
    "# Mail the document\n",
    "# mail = Mailer(email='portfoliosuitability@gmail.com', password='RiceBootCamp2022')\n",
    "# mail.send(receiver='cdb@bcg.law', subject='You made it work!', message='Congrats')"
   ]
  },
  {
   "cell_type": "code",
   "execution_count": null,
   "metadata": {},
   "outputs": [],
   "source": [
    "\n",
    "# # run the questions using fire.Fire\n",
    "# def run():\n",
    "   \n",
    "\n",
    "#    survey_questions()\n",
    "   \n",
    "   \n",
    "\n",
    "# if __name__ == \"__main__\":\n",
    "#     fire.Fire(run)"
   ]
  }
 ],
 "metadata": {
  "interpreter": {
   "hash": "f5c03b34df633f5a55f03c9fd4bf57224531b1cf45a05bf3195213c2a88d9ef9"
  },
  "kernelspec": {
   "display_name": "Python 3.9.7 64-bit ('base': conda)",
   "language": "python",
   "name": "python3"
  },
  "language_info": {
   "codemirror_mode": {
    "name": "ipython",
    "version": 3
   },
   "file_extension": ".py",
   "mimetype": "text/x-python",
   "name": "python",
   "nbconvert_exporter": "python",
   "pygments_lexer": "ipython3",
   "version": "3.9.7"
  },
  "orig_nbformat": 4
 },
 "nbformat": 4,
 "nbformat_minor": 2
}
